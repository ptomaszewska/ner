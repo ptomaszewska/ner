{
 "cells": [
  {
   "cell_type": "code",
   "execution_count": 1,
   "metadata": {},
   "outputs": [],
   "source": [
    "import pandas as pd"
   ]
  },
  {
   "cell_type": "code",
   "execution_count": 2,
   "metadata": {},
   "outputs": [],
   "source": [
    "# przykładowy csv\n",
    "data= pd.read_csv('tags1.csv', sep=';', header=None)"
   ]
  },
  {
   "cell_type": "code",
   "execution_count": 3,
   "metadata": {},
   "outputs": [
    {
     "data": {
      "text/html": [
       "<div>\n",
       "<style scoped>\n",
       "    .dataframe tbody tr th:only-of-type {\n",
       "        vertical-align: middle;\n",
       "    }\n",
       "\n",
       "    .dataframe tbody tr th {\n",
       "        vertical-align: top;\n",
       "    }\n",
       "\n",
       "    .dataframe thead th {\n",
       "        text-align: right;\n",
       "    }\n",
       "</style>\n",
       "<table border=\"1\" class=\"dataframe\">\n",
       "  <thead>\n",
       "    <tr style=\"text-align: right;\">\n",
       "      <th></th>\n",
       "      <th>0</th>\n",
       "      <th>1</th>\n",
       "      <th>2</th>\n",
       "      <th>3</th>\n",
       "    </tr>\n",
       "  </thead>\n",
       "  <tbody>\n",
       "    <tr>\n",
       "      <th>0</th>\n",
       "      <td>00:23</td>\n",
       "      <td>Kaczyński Jarosław</td>\n",
       "      <td>111</td>\n",
       "      <td>polityk</td>\n",
       "    </tr>\n",
       "    <tr>\n",
       "      <th>1</th>\n",
       "      <td>32:43</td>\n",
       "      <td>Donald Tusk</td>\n",
       "      <td>111</td>\n",
       "      <td>polityk</td>\n",
       "    </tr>\n",
       "    <tr>\n",
       "      <th>2</th>\n",
       "      <td>0:77</td>\n",
       "      <td>Jan Kot</td>\n",
       "      <td>122</td>\n",
       "      <td>aktor</td>\n",
       "    </tr>\n",
       "  </tbody>\n",
       "</table>\n",
       "</div>"
      ],
      "text/plain": [
       "       0                   1    2        3\n",
       "0  00:23  Kaczyński Jarosław  111  polityk\n",
       "1  32:43         Donald Tusk  111  polityk\n",
       "2   0:77             Jan Kot  122    aktor"
      ]
     },
     "execution_count": 3,
     "metadata": {},
     "output_type": "execute_result"
    }
   ],
   "source": [
    "data"
   ]
  },
  {
   "cell_type": "markdown",
   "metadata": {},
   "source": [
    "przykład"
   ]
  },
  {
   "cell_type": "code",
   "execution_count": 150,
   "metadata": {},
   "outputs": [],
   "source": [
    "# wzorzec\n",
    "#<Entity name=\"Marek Edelman\" type=\"person\" category=\"lekarz\">Marek Edelman</Entity>"
   ]
  },
  {
   "cell_type": "code",
   "execution_count": 4,
   "metadata": {},
   "outputs": [],
   "source": [
    "sentence='Kaczyńskiego Jarosława nie lubi Donald Tusk na zawsze'"
   ]
  },
  {
   "cell_type": "code",
   "execution_count": 9,
   "metadata": {},
   "outputs": [
    {
     "name": "stdout",
     "output_type": "stream",
     "text": [
      "<Entity name= \"Kaczyński Jarosław type=\"person\" category=\"polityk\">Kaczyński Jarosław<\\Entity> \n",
      "95\n",
      "<Entity name= \"Kaczyński Jarosław type=\"person\" category=\"polityk\">Kaczyński Jarosław<\\Entity> nie lubi Donald Tusk na zawsze\n",
      "<Entity name= \"Donald Tusk type=\"person\" category=\"polityk\">Donald Tusk<\\Entity> \n",
      "32\n"
     ]
    },
    {
     "data": {
      "text/plain": [
       "'<Entity name= \"Kaczyński Jarosław type=\"person\" category=\"polityk\">Kaczyński Jarosław<\\\\Entity> nie lubi <Entity name= \"Donald Tusk type=\"person\" category=\"polityk\">Donald Tusk<\\\\Entity>  na zawsze'"
      ]
     },
     "execution_count": 9,
     "metadata": {},
     "output_type": "execute_result"
    }
   ],
   "source": [
    "tag = '<Entity name= \"'+ data.iloc[0,1] + ' type=\"person\" category=\"'+data.iloc[0,3]+'\">'+data.iloc[0,1]+'<\\Entity> '\n",
    "print(tag)\n",
    "snew=\"\".join((sentence[:0],tag,sentence[23:]))\n",
    "start,end=int(data.iloc[0,0].split(\":\")[0]), int(data.iloc[0,0].split(\":\")[1])\n",
    "length=len(tag)-(end-start)\n",
    "print(len(tag))\n",
    "print(snew)\n",
    "tag = '<Entity name= \"'+ data.iloc[1,1] + ' type=\"person\" category=\"'+data.iloc[1,3]+'\">'+data.iloc[1,1]+'<\\Entity> '\n",
    "print(tag)\n",
    "\n",
    "start=int(data.iloc[1,0].split(\":\")[0])\n",
    "end=int(data.iloc[1,0].split(\":\")[1])\n",
    "print(start)\n",
    "snew=\"\".join((snew[:start+length],tag,snew[end+length:]))\n",
    "snew"
   ]
  },
  {
   "cell_type": "code",
   "execution_count": null,
   "metadata": {},
   "outputs": [],
   "source": []
  },
  {
   "cell_type": "code",
   "execution_count": null,
   "metadata": {},
   "outputs": [],
   "source": []
  },
  {
   "cell_type": "code",
   "execution_count": null,
   "metadata": {},
   "outputs": [],
   "source": []
  },
  {
   "cell_type": "code",
   "execution_count": 10,
   "metadata": {},
   "outputs": [],
   "source": [
    "def create_tag (doc, index):\n",
    "    tag = '<Entity name= \"'+ doc.iloc[index,1] + ' type=\"person\" category=\"'+doc.iloc[index,3]+'\">'+doc.iloc[index,1]+'<\\Entity>'\n",
    "    return tag"
   ]
  },
  {
   "cell_type": "code",
   "execution_count": 11,
   "metadata": {},
   "outputs": [],
   "source": [
    "def start_end_index(doc, index):\n",
    "    return int(doc.iloc[index,0].split(\":\")[0]), int(doc.iloc[index,0].split(\":\")[1])"
   ]
  },
  {
   "cell_type": "code",
   "execution_count": 12,
   "metadata": {},
   "outputs": [],
   "source": [
    "def add_tag_to_doc (doc, subset): \n",
    "    print(subset)\n",
    "    length_added=0\n",
    "    index=0\n",
    "    #iterate over entities in a doc\n",
    "    for i in range(subset.shape[0]):\n",
    "        tag=create_tag(subset, i)\n",
    "        start, end=start_end_index(subset, i)\n",
    "        doc=\"\".join((doc[:start+length_added],tag,doc[end+length_added:]))\n",
    "        length_added=len(tag)-(end-start)\n",
    "    return doc\n"
   ]
  },
  {
   "cell_type": "code",
   "execution_count": 25,
   "metadata": {},
   "outputs": [
    {
     "name": "stdout",
     "output_type": "stream",
     "text": [
      "   index              person file category\n",
      "0  00:23  Kaczyński Jarosław  111  polityk\n",
      "1  32:43         Donald Tusk  111  polityk\n"
     ]
    }
   ],
   "source": [
    "#iterate over records of tags1.csv\n",
    "####na potrzebę testowania file_content=sentence -- trzeba zmienić na wczytywanie pliku\n",
    "file_content=sentence\n",
    "dir_name='./data'\n",
    "\n",
    "doc_index=data.iloc[0,2]\n",
    "subset=pd.DataFrame(columns=['index', 'person', 'file', 'category'])\n",
    "for i in range (data.shape[0]):\n",
    "    if (i !=0) and (data.iloc[i,2] != doc_index):\n",
    "        #wczytaj plik o nazwie: data.iloc[i,2] \n",
    "        #file_path=os.path.join(dir_name +\"/\" + data.iloc[i,2])\n",
    "        #file = open(file_path)\n",
    "        #file_content = file.read()\n",
    "        \n",
    "        output=add_tag_per_doc(file_content, subset)\n",
    "        #file.close()  \n",
    "        subset=pd.DataFrame(columns=['index', 'person', 'file', 'category'])\n",
    "    subset.loc[i]=list(data.iloc[i,:])\n",
    "    doc_index=data.iloc[i,2]"
   ]
  },
  {
   "cell_type": "code",
   "execution_count": 26,
   "metadata": {},
   "outputs": [
    {
     "data": {
      "text/plain": [
       "'<Entity name= \"Kaczyński Jarosław type=\"person\" category=\"polityk\">Kaczyński Jarosław<\\\\Entity>nie lubi <Entity name= \"Donald Tusk type=\"person\" category=\"polityk\">Donald Tusk<\\\\Entity> na zawsze'"
      ]
     },
     "execution_count": 26,
     "metadata": {},
     "output_type": "execute_result"
    }
   ],
   "source": [
    "output"
   ]
  },
  {
   "cell_type": "code",
   "execution_count": null,
   "metadata": {},
   "outputs": [],
   "source": []
  }
 ],
 "metadata": {
  "kernelspec": {
   "display_name": "Python 3",
   "language": "python",
   "name": "python3"
  },
  "language_info": {
   "codemirror_mode": {
    "name": "ipython",
    "version": 3
   },
   "file_extension": ".py",
   "mimetype": "text/x-python",
   "name": "python",
   "nbconvert_exporter": "python",
   "pygments_lexer": "ipython3",
   "version": "3.7.5"
  }
 },
 "nbformat": 4,
 "nbformat_minor": 2
}
