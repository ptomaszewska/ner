{
 "cells": [
  {
   "cell_type": "code",
   "execution_count": 1,
   "metadata": {},
   "outputs": [],
   "source": [
    "import pandas as pd"
   ]
  },
  {
   "cell_type": "code",
   "execution_count": 78,
   "metadata": {},
   "outputs": [],
   "source": [
    "# przykładowy csv\n",
    "data= pd.read_csv('subset.csv', sep=';', header=None, encoding = 'utf-8')\n",
    "# pomimo ustawienia encodingu nadal źle mi wczytuje polskie znaki"
   ]
  },
  {
   "cell_type": "code",
   "execution_count": 81,
   "metadata": {},
   "outputs": [
    {
     "data": {
      "text/html": [
       "<div>\n",
       "<style scoped>\n",
       "    .dataframe tbody tr th:only-of-type {\n",
       "        vertical-align: middle;\n",
       "    }\n",
       "\n",
       "    .dataframe tbody tr th {\n",
       "        vertical-align: top;\n",
       "    }\n",
       "\n",
       "    .dataframe thead th {\n",
       "        text-align: right;\n",
       "    }\n",
       "</style>\n",
       "<table border=\"1\" class=\"dataframe\">\n",
       "  <thead>\n",
       "    <tr style=\"text-align: right;\">\n",
       "      <th></th>\n",
       "      <th>0</th>\n",
       "      <th>1</th>\n",
       "      <th>2</th>\n",
       "    </tr>\n",
       "  </thead>\n",
       "  <tbody>\n",
       "    <tr>\n",
       "      <th>0</th>\n",
       "      <td>102:117</td>\n",
       "      <td>JarosĹ‚aw GugaĹ‚a</td>\n",
       "      <td>./text/clean/korpusGazeta/doc653</td>\n",
       "    </tr>\n",
       "    <tr>\n",
       "      <th>1</th>\n",
       "      <td>103:120</td>\n",
       "      <td>Mateusza Szczurka</td>\n",
       "      <td>./text/clean/korpusGazeta/doc653</td>\n",
       "    </tr>\n",
       "    <tr>\n",
       "      <th>2</th>\n",
       "      <td>00:06</td>\n",
       "      <td>GugaĹ‚a</td>\n",
       "      <td>./text/clean/korpusGazeta/doc653</td>\n",
       "    </tr>\n",
       "    <tr>\n",
       "      <th>3</th>\n",
       "      <td>28:34:00</td>\n",
       "      <td>GugaĹ‚a</td>\n",
       "      <td>./text/clean/korpusGazeta/doc653</td>\n",
       "    </tr>\n",
       "    <tr>\n",
       "      <th>4</th>\n",
       "      <td>00:06</td>\n",
       "      <td>Godzic</td>\n",
       "      <td>./text/clean/korpusGazeta/doc653</td>\n",
       "    </tr>\n",
       "    <tr>\n",
       "      <th>...</th>\n",
       "      <td>...</td>\n",
       "      <td>...</td>\n",
       "      <td>...</td>\n",
       "    </tr>\n",
       "    <tr>\n",
       "      <th>95</th>\n",
       "      <td>09:20</td>\n",
       "      <td>Tyszkiewicz</td>\n",
       "      <td>./text/clean/korpusGazeta/doc4267</td>\n",
       "    </tr>\n",
       "    <tr>\n",
       "      <th>96</th>\n",
       "      <td>22:31</td>\n",
       "      <td>GrupiĹ„ski</td>\n",
       "      <td>./text/clean/korpusGazeta/doc4267</td>\n",
       "    </tr>\n",
       "    <tr>\n",
       "      <th>97</th>\n",
       "      <td>40:55:00</td>\n",
       "      <td>Andrzej Halicki</td>\n",
       "      <td>./text/clean/korpusGazeta/doc4267</td>\n",
       "    </tr>\n",
       "    <tr>\n",
       "      <th>98</th>\n",
       "      <td>00:07</td>\n",
       "      <td>Halicki</td>\n",
       "      <td>./text/clean/korpusGazeta/doc4267</td>\n",
       "    </tr>\n",
       "    <tr>\n",
       "      <th>99</th>\n",
       "      <td>40:58:00</td>\n",
       "      <td>Robert Tyszkiewicz</td>\n",
       "      <td>./text/clean/korpusGazeta/doc4267</td>\n",
       "    </tr>\n",
       "  </tbody>\n",
       "</table>\n",
       "<p>100 rows × 3 columns</p>\n",
       "</div>"
      ],
      "text/plain": [
       "           0                   1                                  2\n",
       "0    102:117   JarosĹ‚aw GugaĹ‚a   ./text/clean/korpusGazeta/doc653\n",
       "1    103:120   Mateusza Szczurka   ./text/clean/korpusGazeta/doc653\n",
       "2      00:06             GugaĹ‚a   ./text/clean/korpusGazeta/doc653\n",
       "3   28:34:00             GugaĹ‚a   ./text/clean/korpusGazeta/doc653\n",
       "4      00:06              Godzic   ./text/clean/korpusGazeta/doc653\n",
       "..       ...                 ...                                ...\n",
       "95     09:20         Tyszkiewicz  ./text/clean/korpusGazeta/doc4267\n",
       "96     22:31          GrupiĹ„ski  ./text/clean/korpusGazeta/doc4267\n",
       "97  40:55:00     Andrzej Halicki  ./text/clean/korpusGazeta/doc4267\n",
       "98     00:07             Halicki  ./text/clean/korpusGazeta/doc4267\n",
       "99  40:58:00  Robert Tyszkiewicz  ./text/clean/korpusGazeta/doc4267\n",
       "\n",
       "[100 rows x 3 columns]"
      ]
     },
     "execution_count": 81,
     "metadata": {},
     "output_type": "execute_result"
    }
   ],
   "source": [
    "data"
   ]
  },
  {
   "cell_type": "markdown",
   "metadata": {},
   "source": [
    "przykład"
   ]
  },
  {
   "cell_type": "code",
   "execution_count": 41,
   "metadata": {},
   "outputs": [],
   "source": [
    "# wzorzec\n",
    "#<Entity name=\"Marek Edelman\" type=\"person\" category=\"lekarz\">Marek Edelman</Entity>"
   ]
  },
  {
   "cell_type": "code",
   "execution_count": 42,
   "metadata": {},
   "outputs": [],
   "source": [
    "sentence='Kaczyńskiego Jarosława nie lubi Donald Tusk na zawsze'"
   ]
  },
  {
   "cell_type": "code",
   "execution_count": 84,
   "metadata": {},
   "outputs": [
    {
     "name": "stdout",
     "output_type": "stream",
     "text": [
      "<Entity name= \"Kaczyński Jarosław type=\"person\" category=\"Kaczyński Jarosław\">Kaczyński Jarosław<\\Entity> \n",
      "<Entity name= \"Kaczyński Jarosław type=\"person\" category=\"Kaczyński Jarosław\">Kaczyński Jarosław<\\Entity> nie lubi Donald Tusk na zawsze\n",
      "<Entity name= \"Donald Tusk type=\"person\" category=\"Donald Tusk\">Donald Tusk<\\Entity> \n"
     ]
    },
    {
     "data": {
      "text/plain": [
       "'<Entity name= \"Kaczyński Jarosław type=\"person\" category=\"Kaczyński Jarosław\">Kaczyński Jarosław<\\\\Entity> nie lubi <Entity name= \"Donald Tusk type=\"person\" category=\"Donald Tusk\">Donald Tusk<\\\\Entity>  na zawsze'"
      ]
     },
     "execution_count": 84,
     "metadata": {},
     "output_type": "execute_result"
    }
   ],
   "source": [
    "data_sample= pd.read_csv('tags1.csv', sep=';', header=None, encoding = 'utf-8')\n",
    "\n",
    "\n",
    "\n",
    "tag = '<Entity name= \"'+ data_sample.iloc[0,1] + ' type=\"person\" category=\"'+data_sample.iloc[0,1]+'\">'+data_sample.iloc[0,1]+'<\\Entity> ' \n",
    "#potem zmienić category na właściwe \n",
    "print(tag)\n",
    "snew=\"\".join((sentence[:0],tag,sentence[23:]))\n",
    "start,end=int(data_sample.iloc[0,0].split(\":\")[0]), int(data_sample.iloc[0,0].split(\":\")[1])\n",
    "length=len(tag)-(end-start)\n",
    "print(snew)\n",
    "tag = '<Entity name= \"'+ data_sample.iloc[1,1] + ' type=\"person\" category=\"'+data_sample.iloc[1,1]+'\">'+data_sample.iloc[1,1]+'<\\Entity> '\n",
    "#potem zmienić category na właściwe\n",
    "print(tag)\n",
    "\n",
    "start=int(data_sample.iloc[1,0].split(\":\")[0])\n",
    "end=int(data_sample.iloc[1,0].split(\":\")[1])\n",
    "\n",
    "snew=\"\".join((snew[:start+length],tag,snew[end+length:]))\n",
    "snew"
   ]
  },
  {
   "cell_type": "code",
   "execution_count": null,
   "metadata": {},
   "outputs": [],
   "source": []
  },
  {
   "cell_type": "code",
   "execution_count": null,
   "metadata": {},
   "outputs": [],
   "source": []
  },
  {
   "cell_type": "code",
   "execution_count": null,
   "metadata": {},
   "outputs": [],
   "source": []
  },
  {
   "cell_type": "code",
   "execution_count": 64,
   "metadata": {},
   "outputs": [],
   "source": [
    "def create_tag (doc, index):\n",
    "    tag = '<Entity name= \"'+ doc.iloc[index,1] + ' type=\"person\" category=\"'+doc.iloc[index,1]+'\">'+doc.iloc[index,1]+'<\\Entity>'\n",
    "    #zamienić potem category\n",
    "    return tag"
   ]
  },
  {
   "cell_type": "code",
   "execution_count": 65,
   "metadata": {},
   "outputs": [],
   "source": [
    "def start_end_index(doc, index):\n",
    "    return int(doc.iloc[index,0].split(\":\")[0]), int(doc.iloc[index,0].split(\":\")[1])"
   ]
  },
  {
   "cell_type": "code",
   "execution_count": 66,
   "metadata": {},
   "outputs": [],
   "source": [
    "def add_tag_to_doc (doc, subset): \n",
    "    length_added=0\n",
    "    index=0\n",
    "    #iterate over entities in a doc\n",
    "    for i in range(subset.shape[0]):\n",
    "        tag=create_tag(subset, i)\n",
    "        start, end=start_end_index(subset, i)\n",
    "        doc=\"\".join((doc[:start+length_added],tag,doc[end+length_added:]))\n",
    "        length_added=len(tag)-(end-start)\n",
    "    return doc\n"
   ]
  },
  {
   "cell_type": "code",
   "execution_count": null,
   "metadata": {},
   "outputs": [],
   "source": []
  },
  {
   "cell_type": "code",
   "execution_count": null,
   "metadata": {},
   "outputs": [],
   "source": [
    "# uwaga - założyłam, że indeksy nerów będą rosnąć, ale tak nie będzie - trzeba więc będzie subset sortować"
   ]
  },
  {
   "cell_type": "code",
   "execution_count": 69,
   "metadata": {},
   "outputs": [
    {
     "name": "stdout",
     "output_type": "stream",
     "text": [
      "       index                     person                              file\n",
      "0    102:117          JarosĹ‚aw GugaĹ‚a  ./text/clean/korpusGazeta/doc653\n",
      "1    103:120          Mateusza Szczurka  ./text/clean/korpusGazeta/doc653\n",
      "2      00:06                    GugaĹ‚a  ./text/clean/korpusGazeta/doc653\n",
      "3   28:34:00                    GugaĹ‚a  ./text/clean/korpusGazeta/doc653\n",
      "4      00:06                     Godzic  ./text/clean/korpusGazeta/doc653\n",
      "5      09:19                 Morozowski  ./text/clean/korpusGazeta/doc653\n",
      "6   31:46:00            Kolenda-Zaleska  ./text/clean/korpusGazeta/doc653\n",
      "7      12:28          WiesĹ‚awa Godzica  ./text/clean/korpusGazeta/doc653\n",
      "8    125:131                     Godzic  ./text/clean/korpusGazeta/doc653\n",
      "9      42:60         Andrzej Morozowski  ./text/clean/korpusGazeta/doc653\n",
      "10     22:47  Katarzyna Kolenda-Zaleska  ./text/clean/korpusGazeta/doc653\n",
      "['Bp Wiesław Mering wydał dyspozycję proboszczom diecezji włocławs<Entit<Entity name= \"Morozo<Entity name<Ent<Entity name= \"Katarzyna Kolenda-Zaleska type=\"person\" category=\"Katarzyna Kolenda-Zaleska\">Katarzyna Kolenda-Zaleska<\\Entity>wski type=\"person\" category=\"Andrzej Morozowski\">Andrzej Morozowski<\\Entity>ca type=\"person\" category=\"WiesĹ‚awa Godzica\">WiesĹ‚awa Godzica<\\Entity> name= \"Kolenda-<Entity name= \"Godzic type=\"person\" category=\"Godzic\">Godzic<\\Entity>a type=\"person\" category=\"Kolenda-Zaleska\">Kolenda-Zaleska<\\Entity>ory=\"Morozowski\">Morozowski<\\Entity>odzic type=\"person\" category=\"Godzic\">Godzic<\\Entity>że nie ma obo<Entity n<Entity name= \"GugaĹ‚a type=\"person\" category=\"GugaĹ‚a\">GugaĹ‚a<\\Entity>GugaĹ‚a type=\"person\" category=\"GugaĹ‚a\">GugaĹ‚a<\\Entity> odczytania<Entity name= \"JarosĹ‚aw GugaĹ‚a type=\"person\" category=\"JarosĹ‚aw GugaĹ‚a\">JarosĹ‚aw Gu<Entity name= \"Mateusza Szczurka type=\"person\" category=\"Mateusza Szczurka\">Mateusza Szczurka<\\Entity>dotyczącego gender, ale list jest do wykorzystania duszpasterskiego - powiedział rzecznik kurii ks. Artur Niemira. List Konferencji Episkopatu Polski na Niedzielę Świętej Rodziny, która będzie obchodzona 29 grudnia, przestrzega przed \"ideologią gender\" jako sprzeczną z rzeczywistością i \"integralnym pojmowaniem natury człowieka\". \"Nie ma obowiązku czytania\" - Treść korespondencji do proboszczów jest zgodna z tym, co zostało przekazane z sekretariatu Konferencji Episkopatu Polski, że list może być odczytany, ale decyzja należy do ordynariusza, biskupa diecezjalnego. Ks. bp Mering wydał dyspozycję i przekazał do parafii, że nie ma obowiązku czytania, ale list jest do wykorzystania duszpasterskiego. Można go odczytać, można też na tej podstawie przygotować homilię wykorzystując pewne wątki - powiedział kanclerz kurii. Ks. Niemira zaznaczył, że z posiadanych przez niego informacji w wielu parafiach diecezji włocławskiej list KEP zostanie odczytany w całości. - To nie jest tak, że ten list jest zakazany czy wycofany - zaznaczył. Kanclerz nie czuł się kompetentny w wyjaśnieniu, jaka jest zasada - czy listy KEP należy obowiązkowo odczytywać z ambon, czy jest to pozostawione do decyzji biskupów diecezjalnych. - My działamy na zasadzie wytycznych, które przychodzą z sekretariatu episkopatu. W tej sprawie rzeczywiście przekazano, że jest to pozostawione do decyzji biskupa diecezjalnego - podkreślił. \"Mering nie zaleca lektury tego listu\" Sprawę zaleceń bp. Meringa nagłośnił \"Tygodnik Powszechny\", który ujawnił maila kanclerza do proboszczów parafii, w którym przekazał list duszpasterski KEP i poinformował o dyspozycji ordynariusza. - Ponieważ wielu biskupów wyraziło do jego treści zastrzeżenia, przewodniczący KEP abp Józef Michalik pozostawił do decyzji biskupów diecezjalnych formę jego wykorzystania. Ks. bp Wiesław Mering nie zaleca lektury tego listu jako obowiązkowej, ale pozostawia jego treść do duszpasterskiego wykorzystania - napisał kanclerz w korespondencji cytowanej przez \"Tygodnik Powszechny\". KEP w liście pasterskim na Niedzielę Świętej Rodziny przestrzegła przed niebezpieczeństwami, jakie niesie \"ideologia gender\". \"Całkowicie sprzeczne z rzeczywistością\" \"Genderyzm promuje zasady całkowicie sprzeczne z rzeczywistością i integralnym pojmowaniem natury człowieka. Twierdzi, że płeć biologiczna nie ma znaczenia społecznego i że liczy się przede wszystkim płeć kulturowa, którą człowiek może swobodnie modelować i definiować, niezależnie od uwarunkowań biologicznych. Według tej ideologii człowiek może siebie w dobrowolny sposób określać: czy jest mężczyzną, czy kobietą, może też dowolnie wybierać własną orientację seksualną\" - głosi list. Biskupi zaznaczyli, że \"nie można społecznie zrównywać małżeństwa będącego wspólnotą mężczyzny i kobiety ze związkiem homoseksualnym\". Przypomnieli, że osoby o skłonnościach homoseksualnych nie mogą być poniżane, ale równocześnie podkreślają, że \"aktywność homoseksualna jest głęboko nieuporządkowana\". W liście również zaapelowano do organizacji religijnych i ludzi dobrej woli, aby \"odważnie podejmowali działania, które będą służyć upowszechnianiu prawdy o małżeństwie i rodzinie\", a do osób odpowiadających za polską edukację, aby \"nie ulegały naciskom\" i \"zaangażowały się w promowanie integralnej wizji człowieka\".']\n"
     ]
    }
   ],
   "source": [
    "#iterate over records of csv file\n",
    "file_content=sentence\n",
    "dir_name='./'\n",
    "\n",
    "doc_index=data.iloc[0,2]\n",
    "subset=pd.DataFrame(columns=['index', 'person', 'file'])  #,'category'\n",
    "for i in range (data.shape[0]):\n",
    "    if (i !=0) and (data.iloc[i,2] != doc_index):\n",
    "        filename=data.iloc[i,2].split('/')[-2]+'/'+data.iloc[i,2].split('/')[-1]\n",
    "        file_path=os.path.join(absolute_path_direction+\"/\" + filename)\n",
    "        f = codecs.open(file_path, encoding='utf-8')\n",
    "        l = list()\n",
    "        for line in f:\n",
    "            l.append(line)\n",
    "        \n",
    "        output=add_tag_per_doc(str(l), subset)\n",
    "        file.close()  \n",
    "        print(output)\n",
    "        path_direction=file_path=os.path.join(absolute_path_tagged+\"/\" + filename)\n",
    "        f = codecs.open(path_direction, \"w\", encoding = 'utf-8')\n",
    "        f.write(output)\n",
    "        f.close()\n",
    "        break  #tylko na czas debugowania\n",
    "        subset=pd.DataFrame(columns=['index', 'person', 'file']) #,'category'\n",
    "    subset.loc[i]=list(data.iloc[i,:])\n",
    "    doc_index=data.iloc[i,2]"
   ]
  },
  {
   "cell_type": "code",
   "execution_count": 68,
   "metadata": {},
   "outputs": [
    {
     "data": {
      "text/plain": [
       "'[\\'Dzisiaj ostatni dzień wyborów władz regionalnych w Platformie Obyw<Entity name= \"Radziwinowicza type=\"pers<Entity name= \"Komorowskiego type=\"person\" category=\"Komorowskiego\">Komorowskiego<\\\\Entity>\"Radziwinowicza\">Radziwinowicza<\\\\Entity> name= \"Limono<Entity name= \"Limonow type=\"person\" category=\"Limonow\">Limonow<\\\\Entity>\"person\" category=\"Limonow\">Limonow<\\\\Entity>ame= \"Limonow type=<Entity name= \"Aleksieja Nawalne<Entity name= \"Radziwinowicz type=\"person\" category=\"Radziwinowicz\">Radziwinowicz<\\\\Entity>o<Entity name= \"Limonowowi type=\"person\" category=\"Limonowowi\">Limonowowi<\\\\Entity>ame= \"Nawalny type=\"person\" category=\"Nawalny\">Nawalny<\\\\Entity>ory=\"Aleksieja Nawalnego\">Aleksieja Nawalnego<\\\\Entity>Limonow\">Limonow<\\\\Entity>ame= \"Limonow type=\"person\" category=\"Limonow\">Limonow<\\\\Entity> <Entity name= \"Limonow type=\"person\" category=\"Limonow\">Limonow<<Entity name= \"Limonowa type=\"person\" category=\"Limonowa\">Limonowa<\\\\Entity>y name= \"Limonowowi type=\"person\" category=\"Limonowowi\">Limon<Entity name= \"Edward Limonow type=\"person\" category=\"Edward Limonow\">Edward Limonow<\\\\Entity>a Pomorzu został ponownie<Entity name= \"WacĹ‚aw Radziwinowicz type=\"person\" category=\"WacĹ‚aw Radziwinowicz\">WacĹ‚aw Radziwinowicz<\\\\Entity>wak. Mazowsze pozostaje w rękach Andrzeja Halickiego, a Wielkopolska Rafała Grupińskiego. - Dla wszystkich starczy miejsca i pracy w Platformie - stwierdził premier, który komentow<Entity name= \"WacĹ‚aw Radziwinowicz type=\"person\" category=\"WacĹ‚aw Radziwinowicz\">WacĹ‚aw Radziwinowicz<\\\\Entity>Grzegorza Schetyny na Dolnym Śląsku. Minister transportu, budownictwa i gospodarki morskiej Sławomir Nowak wygrał wybory na przewodniczącego pomorskiej Platformy Obywatelskiej. Nie miał kontrkandydata na to stanowisko. Nowak jest szefem PO na Pomorzu od 2010 roku. Na Nowaka zagłosowało 343 delegatów zjazdu regionalnego PO w Gdańsku, 18 było przeciw. Pierwsza informacje o zwycięstwie Nowaka, zamieściła Agnieszka Pomaska na Twitterze i sam minister na Facebooku. Halicki, Tyszkiewicz, Grupiński Z kolei Andrzej Halicki został ponownie szefem PO na Mazowszu. Nie miał kontrkandydatów. Podczas niedzielnego zjazdu regionu uzyskał 446 głosów poparcia przy 76 głosach przeciwnych. Halicki kieruje mazowiecką PO od maja 2010 r. Ma 52 lata, z wykształcenia jest ekonomistą. Należał do Kongresu Liberalno-Demokratycznego i Unii Wolności. W PO jest od 2001 r. W Sejmie obecnej kadencji kieruje pracami Komisji Odpowiedzialności Konstytucyjnej. Nowym przewodniczącym na Podlasiu poseł Robert Tyszkiewicz został. Był jedynym kandydatem na to stanowisko. W głosowaniu W Białymstoku wzięło udział 313 delegatów. Za Tyszkiewiczem było 286 osób, przeciw jego kandydaturze 22. Tyszkiewicz nie miał kontrkandydata w wyborach. Dotychczasowy przewodniczący podlaskich struktur, Damian Raczkowski, zrezygnował w piątek ze startu. Szef klubu parlamentarnego Platformy Obywatelskiej Rafał Grupiński został ponownie wybrany na szefa wielkopolskich struktur tej partii. W Poznaniu pokonał w wyborach posła Waldego Dzikowskiego. Zjazd regionalny odbył się na terenie Międzynarodowych Targów Poznańskich. Oddano 460 głosów ważnych. Grupińskiego poparło 323 delegatów, jego rywala 137. Rafał Grupiński jest przewodniczącym PO w regionie od 2010 roku. Wcześniej strukturom partii szefował Waldy Dzikowski. Walka na Dolnym Śląsku Niedziela jest ostatnim dniem wyborów władz regionalnych w Platformie Obywatelskiej. Wczoraj PO wybrała szefów kilku regionów. Najwięcej emocji wzbudziły wybory szefa dolnośląskiej PO. Dopiero w drugim głosowaniu Jacek Protasiewicz pokonał dotychczasowego przewodniczącego struktur PO w regionie Grzegorza Schetynę 11 głosami. Wypowiedzi Donalda Tuska na Twitterze w odniesieniu do dolnośląskich wyborów cytuje posłanka Agnieszka Pomaska. Protasiewicz w drugim sobotnim głosowaniu otrzymał 205 głosów, Schetyna - 194. Głosowało 400 delegatów, 1 głos był nieważny. Drugie głosowanie było konieczne, gdyż w pierwszym ani Schetyna, ani Protasiewicz nie otrzymali wystarczającej liczby głosów.\\']'"
      ]
     },
     "execution_count": 68,
     "metadata": {},
     "output_type": "execute_result"
    }
   ],
   "source": [
    "output"
   ]
  }
 ],
 "metadata": {
  "kernelspec": {
   "display_name": "Python 3",
   "language": "python",
   "name": "python3"
  },
  "language_info": {
   "codemirror_mode": {
    "name": "ipython",
    "version": 3
   },
   "file_extension": ".py",
   "mimetype": "text/x-python",
   "name": "python",
   "nbconvert_exporter": "python",
   "pygments_lexer": "ipython3",
   "version": "3.7.5"
  }
 },
 "nbformat": 4,
 "nbformat_minor": 2
}
